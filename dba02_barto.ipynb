{
 "cells": [
  {
   "cell_type": "markdown",
   "metadata": {},
   "source": [
    "## Database Assignment #2\n",
    "#### Author: Lance Barto\n",
    "#### Principles of Database Systems\n",
    "#### Dr. Mota\n",
    "#### October 27, 2019"
   ]
  },
  {
   "cell_type": "markdown",
   "metadata": {},
   "source": [
    "## Step 1 - Read in the data file"
   ]
  },
  {
   "cell_type": "code",
   "execution_count": 1,
   "metadata": {},
   "outputs": [
    {
     "data": {
      "text/html": [
       "<div>\n",
       "<style scoped>\n",
       "    .dataframe tbody tr th:only-of-type {\n",
       "        vertical-align: middle;\n",
       "    }\n",
       "\n",
       "    .dataframe tbody tr th {\n",
       "        vertical-align: top;\n",
       "    }\n",
       "\n",
       "    .dataframe thead th {\n",
       "        text-align: right;\n",
       "    }\n",
       "</style>\n",
       "<table border=\"1\" class=\"dataframe\">\n",
       "  <thead>\n",
       "    <tr style=\"text-align: right;\">\n",
       "      <th></th>\n",
       "      <th>DRG Definition</th>\n",
       "      <th>Provider Id</th>\n",
       "      <th>Provider Name</th>\n",
       "      <th>Provider Street Address</th>\n",
       "      <th>Provider City</th>\n",
       "      <th>Provider State</th>\n",
       "      <th>Provider Zip Code</th>\n",
       "      <th>Hospital Referral Region Description</th>\n",
       "      <th>Total Discharges</th>\n",
       "      <th>Average Covered Charges</th>\n",
       "      <th>Average Total Payments</th>\n",
       "      <th>Average Medicare Payments</th>\n",
       "    </tr>\n",
       "  </thead>\n",
       "  <tbody>\n",
       "    <tr>\n",
       "      <th>0</th>\n",
       "      <td>039 - EXTRACRANIAL PROCEDURES W/O CC/MCC</td>\n",
       "      <td>10001</td>\n",
       "      <td>SOUTHEAST ALABAMA MEDICAL CENTER</td>\n",
       "      <td>1108 ROSS CLARK CIRCLE</td>\n",
       "      <td>DOTHAN</td>\n",
       "      <td>AL</td>\n",
       "      <td>36301</td>\n",
       "      <td>AL - Dothan</td>\n",
       "      <td>91</td>\n",
       "      <td>32963.07</td>\n",
       "      <td>5777.24</td>\n",
       "      <td>4763.73</td>\n",
       "    </tr>\n",
       "    <tr>\n",
       "      <th>1</th>\n",
       "      <td>039 - EXTRACRANIAL PROCEDURES W/O CC/MCC</td>\n",
       "      <td>10005</td>\n",
       "      <td>MARSHALL MEDICAL CENTER SOUTH</td>\n",
       "      <td>2505 U S HIGHWAY 431 NORTH</td>\n",
       "      <td>BOAZ</td>\n",
       "      <td>AL</td>\n",
       "      <td>35957</td>\n",
       "      <td>AL - Birmingham</td>\n",
       "      <td>14</td>\n",
       "      <td>15131.85</td>\n",
       "      <td>5787.57</td>\n",
       "      <td>4976.71</td>\n",
       "    </tr>\n",
       "    <tr>\n",
       "      <th>2</th>\n",
       "      <td>039 - EXTRACRANIAL PROCEDURES W/O CC/MCC</td>\n",
       "      <td>10006</td>\n",
       "      <td>ELIZA COFFEE MEMORIAL HOSPITAL</td>\n",
       "      <td>205 MARENGO STREET</td>\n",
       "      <td>FLORENCE</td>\n",
       "      <td>AL</td>\n",
       "      <td>35631</td>\n",
       "      <td>AL - Birmingham</td>\n",
       "      <td>24</td>\n",
       "      <td>37560.37</td>\n",
       "      <td>5434.95</td>\n",
       "      <td>4453.79</td>\n",
       "    </tr>\n",
       "    <tr>\n",
       "      <th>3</th>\n",
       "      <td>039 - EXTRACRANIAL PROCEDURES W/O CC/MCC</td>\n",
       "      <td>10011</td>\n",
       "      <td>ST VINCENT'S EAST</td>\n",
       "      <td>50 MEDICAL PARK EAST DRIVE</td>\n",
       "      <td>BIRMINGHAM</td>\n",
       "      <td>AL</td>\n",
       "      <td>35235</td>\n",
       "      <td>AL - Birmingham</td>\n",
       "      <td>25</td>\n",
       "      <td>13998.28</td>\n",
       "      <td>5417.56</td>\n",
       "      <td>4129.16</td>\n",
       "    </tr>\n",
       "    <tr>\n",
       "      <th>4</th>\n",
       "      <td>039 - EXTRACRANIAL PROCEDURES W/O CC/MCC</td>\n",
       "      <td>10016</td>\n",
       "      <td>SHELBY BAPTIST MEDICAL CENTER</td>\n",
       "      <td>1000 FIRST STREET NORTH</td>\n",
       "      <td>ALABASTER</td>\n",
       "      <td>AL</td>\n",
       "      <td>35007</td>\n",
       "      <td>AL - Birmingham</td>\n",
       "      <td>18</td>\n",
       "      <td>31633.27</td>\n",
       "      <td>5658.33</td>\n",
       "      <td>4851.44</td>\n",
       "    </tr>\n",
       "  </tbody>\n",
       "</table>\n",
       "</div>"
      ],
      "text/plain": [
       "                             DRG Definition  Provider Id  \\\n",
       "0  039 - EXTRACRANIAL PROCEDURES W/O CC/MCC        10001   \n",
       "1  039 - EXTRACRANIAL PROCEDURES W/O CC/MCC        10005   \n",
       "2  039 - EXTRACRANIAL PROCEDURES W/O CC/MCC        10006   \n",
       "3  039 - EXTRACRANIAL PROCEDURES W/O CC/MCC        10011   \n",
       "4  039 - EXTRACRANIAL PROCEDURES W/O CC/MCC        10016   \n",
       "\n",
       "                      Provider Name     Provider Street Address Provider City  \\\n",
       "0  SOUTHEAST ALABAMA MEDICAL CENTER      1108 ROSS CLARK CIRCLE        DOTHAN   \n",
       "1     MARSHALL MEDICAL CENTER SOUTH  2505 U S HIGHWAY 431 NORTH          BOAZ   \n",
       "2    ELIZA COFFEE MEMORIAL HOSPITAL          205 MARENGO STREET      FLORENCE   \n",
       "3                 ST VINCENT'S EAST  50 MEDICAL PARK EAST DRIVE    BIRMINGHAM   \n",
       "4     SHELBY BAPTIST MEDICAL CENTER     1000 FIRST STREET NORTH     ALABASTER   \n",
       "\n",
       "  Provider State  Provider Zip Code Hospital Referral Region Description  \\\n",
       "0             AL              36301                          AL - Dothan   \n",
       "1             AL              35957                      AL - Birmingham   \n",
       "2             AL              35631                      AL - Birmingham   \n",
       "3             AL              35235                      AL - Birmingham   \n",
       "4             AL              35007                      AL - Birmingham   \n",
       "\n",
       "    Total Discharges    Average Covered Charges    Average Total Payments   \\\n",
       "0                  91                   32963.07                   5777.24   \n",
       "1                  14                   15131.85                   5787.57   \n",
       "2                  24                   37560.37                   5434.95   \n",
       "3                  25                   13998.28                   5417.56   \n",
       "4                  18                   31633.27                   5658.33   \n",
       "\n",
       "   Average Medicare Payments  \n",
       "0                    4763.73  \n",
       "1                    4976.71  \n",
       "2                    4453.79  \n",
       "3                    4129.16  \n",
       "4                    4851.44  "
      ]
     },
     "execution_count": 1,
     "metadata": {},
     "output_type": "execute_result"
    }
   ],
   "source": [
    "import pandas as pd\n",
    "import pymysql\n",
    "import cryptography\n",
    "\n",
    "ipps_df = pd.read_csv('ipps.csv')\n",
    "\n",
    "# Display the first few rows of the dataframe to check for integrity after reading the file\n",
    "ipps_df.head()\n"
   ]
  },
  {
   "cell_type": "code",
   "execution_count": 2,
   "metadata": {},
   "outputs": [
    {
     "data": {
      "text/plain": [
       "False"
      ]
     },
     "execution_count": 2,
     "metadata": {},
     "output_type": "execute_result"
    }
   ],
   "source": [
    "# Check if we're dealing with any missing values in the dataset\n",
    "ipps_df.isnull().values.any()\n"
   ]
  },
  {
   "cell_type": "markdown",
   "metadata": {},
   "source": [
    "## Step 2 - Split the columns as appropriate for 1NF"
   ]
  },
  {
   "cell_type": "markdown",
   "metadata": {},
   "source": [
    "* First, rename the columns to something that can be used more reasonably"
   ]
  },
  {
   "cell_type": "code",
   "execution_count": 3,
   "metadata": {},
   "outputs": [],
   "source": [
    "ipps_df.columns = ['drg', 'prov_ID', 'prov_name', 'prov_address', \n",
    "                'prov_city', 'prov_state', 'prov_zip', 'hrr', \n",
    "                'discharge_count', 'covered_charges', 'total_payments', \n",
    "                'medicare_payments']"
   ]
  },
  {
   "cell_type": "markdown",
   "metadata": {},
   "source": [
    "### Create a new dataframe for the HRR table\n",
    "* We must be check if we can use the city as a key, or if we need to assign an index"
   ]
  },
  {
   "cell_type": "code",
   "execution_count": 4,
   "metadata": {},
   "outputs": [
    {
     "name": "stdout",
     "output_type": "stream",
     "text": [
      "Number unique HRR:  306\n",
      "Number unique HRR cities:  294\n"
     ]
    }
   ],
   "source": [
    "## Create a new dataframe for hrr\n",
    "hrr_df = pd.DataFrame({'hrr': list(set(ipps_df.hrr))})\n",
    "\n",
    "## Initial number of unique entries in column\n",
    "print('Number unique HRR: ', len(set(hrr_df.hrr)))\n",
    "\n",
    "## Split the columns, drop the original column\n",
    "hrr_df[['hrr_state', 'hrr_city']] = hrr_df['hrr'].str.split(' - ',expand=True)\n",
    "hrr_df = hrr_df[['hrr_city', 'hrr_state']]\n",
    "\n",
    "## Check Length of cities to see if each is unique to a single state,\n",
    "## If true, then we can use the cities as a key\n",
    "print('Number unique HRR cities: ', len(set(hrr_df.hrr_city)))\n"
   ]
  },
  {
   "cell_type": "markdown",
   "metadata": {},
   "source": [
    "#### Add an hrr_ID"
   ]
  },
  {
   "cell_type": "code",
   "execution_count": 5,
   "metadata": {},
   "outputs": [],
   "source": [
    "ipps_df['hrr_ID'] = ipps_df.groupby('hrr').ngroup()"
   ]
  },
  {
   "cell_type": "markdown",
   "metadata": {},
   "source": [
    "#### Remake the table"
   ]
  },
  {
   "cell_type": "code",
   "execution_count": 6,
   "metadata": {},
   "outputs": [
    {
     "data": {
      "text/html": [
       "<div>\n",
       "<style scoped>\n",
       "    .dataframe tbody tr th:only-of-type {\n",
       "        vertical-align: middle;\n",
       "    }\n",
       "\n",
       "    .dataframe tbody tr th {\n",
       "        vertical-align: top;\n",
       "    }\n",
       "\n",
       "    .dataframe thead th {\n",
       "        text-align: right;\n",
       "    }\n",
       "</style>\n",
       "<table border=\"1\" class=\"dataframe\">\n",
       "  <thead>\n",
       "    <tr style=\"text-align: right;\">\n",
       "      <th></th>\n",
       "      <th>hrr_ID</th>\n",
       "      <th>hrr_city</th>\n",
       "      <th>hrr_state</th>\n",
       "    </tr>\n",
       "  </thead>\n",
       "  <tbody>\n",
       "    <tr>\n",
       "      <th>0</th>\n",
       "      <td>2</td>\n",
       "      <td>Dothan</td>\n",
       "      <td>AL</td>\n",
       "    </tr>\n",
       "    <tr>\n",
       "      <th>1</th>\n",
       "      <td>1</td>\n",
       "      <td>Birmingham</td>\n",
       "      <td>AL</td>\n",
       "    </tr>\n",
       "    <tr>\n",
       "      <th>5</th>\n",
       "      <td>5</td>\n",
       "      <td>Montgomery</td>\n",
       "      <td>AL</td>\n",
       "    </tr>\n",
       "    <tr>\n",
       "      <th>8</th>\n",
       "      <td>3</td>\n",
       "      <td>Huntsville</td>\n",
       "      <td>AL</td>\n",
       "    </tr>\n",
       "    <tr>\n",
       "      <th>14</th>\n",
       "      <td>4</td>\n",
       "      <td>Mobile</td>\n",
       "      <td>AL</td>\n",
       "    </tr>\n",
       "  </tbody>\n",
       "</table>\n",
       "</div>"
      ],
      "text/plain": [
       "    hrr_ID    hrr_city hrr_state\n",
       "0        2      Dothan        AL\n",
       "1        1  Birmingham        AL\n",
       "5        5  Montgomery        AL\n",
       "8        3  Huntsville        AL\n",
       "14       4      Mobile        AL"
      ]
     },
     "execution_count": 6,
     "metadata": {},
     "output_type": "execute_result"
    }
   ],
   "source": [
    "## Create a new dataframe for hrr\n",
    "hrr_df = pd.DataFrame({'hrr': list(ipps_df.hrr), 'hrr_ID': list(ipps_df.hrr_ID)})\n",
    "\n",
    "## Split the columns, drop the original column\n",
    "hrr_df[['hrr_state', 'hrr_city']] = hrr_df['hrr'].str.split(' - ',expand=True)\n",
    "hrr_df = hrr_df[['hrr_ID', 'hrr_city', 'hrr_state']]\n",
    "\n",
    "## Drop duplicates\n",
    "hrr_df = hrr_df.drop_duplicates()\n",
    "\n",
    "## Check data integrity\n",
    "hrr_df.head()\n"
   ]
  },
  {
   "cell_type": "markdown",
   "metadata": {},
   "source": [
    "### Drop the necessary columns from the original dataframe\n",
    "* First, need to double check that the states line up before dropping both states columns\n"
   ]
  },
  {
   "cell_type": "code",
   "execution_count": 7,
   "metadata": {},
   "outputs": [
    {
     "name": "stdout",
     "output_type": "stream",
     "text": [
      "drg                     948 - SIGNS & SYMPTOMS W/O MCC\n",
      "prov_ID                                         530002\n",
      "prov_name            CAMPBELL COUNTY MEMORIAL HOSPITAL\n",
      "prov_address                    501 SOUTH BURMA AVENUE\n",
      "prov_city                                     GILLETTE\n",
      "prov_state                                          WY\n",
      "prov_zip                                         82716\n",
      "hrr                                      MT - Billings\n",
      "discharge_count                                     12\n",
      "covered_charges                                13756.5\n",
      "total_payments                                 6889.33\n",
      "medicare_payments                               5673.5\n",
      "hrr_ID                                             167\n",
      "hrr_state                                           MT\n",
      "hrr_city                                      Billings\n",
      "Name: 163056, dtype: object\n"
     ]
    }
   ],
   "source": [
    "## Split the column in the original dataframe\n",
    "ipps_df[['hrr_state', 'hrr_city']] = ipps_df['hrr'].str.split(' - ', expand=True)\n",
    "\n",
    "## See if all states are matching by True counts\n",
    "sum(ipps_df.hrr_state == ipps_df.prov_state) == len(ipps_df)\n",
    "\n",
    "## Print an example where prov_state != hrr_state\n",
    "print(ipps_df.iloc[163056])\n"
   ]
  },
  {
   "cell_type": "markdown",
   "metadata": {},
   "source": [
    "#### Here, the two states columns do not match, therefore, we cannot drop the prov_state column\n",
    "* Note: All HRR information can be obtained with a join of the providers relation, so we can drop all hrr columns eventually, but must retain the primary key 'hrr_city' for now"
   ]
  },
  {
   "cell_type": "code",
   "execution_count": 8,
   "metadata": {},
   "outputs": [
    {
     "data": {
      "text/html": [
       "<div>\n",
       "<style scoped>\n",
       "    .dataframe tbody tr th:only-of-type {\n",
       "        vertical-align: middle;\n",
       "    }\n",
       "\n",
       "    .dataframe tbody tr th {\n",
       "        vertical-align: top;\n",
       "    }\n",
       "\n",
       "    .dataframe thead th {\n",
       "        text-align: right;\n",
       "    }\n",
       "</style>\n",
       "<table border=\"1\" class=\"dataframe\">\n",
       "  <thead>\n",
       "    <tr style=\"text-align: right;\">\n",
       "      <th></th>\n",
       "      <th>drg</th>\n",
       "      <th>prov_ID</th>\n",
       "      <th>prov_name</th>\n",
       "      <th>prov_address</th>\n",
       "      <th>prov_city</th>\n",
       "      <th>prov_state</th>\n",
       "      <th>prov_zip</th>\n",
       "      <th>discharge_count</th>\n",
       "      <th>covered_charges</th>\n",
       "      <th>total_payments</th>\n",
       "      <th>medicare_payments</th>\n",
       "      <th>hrr_ID</th>\n",
       "      <th>hrr_city</th>\n",
       "    </tr>\n",
       "  </thead>\n",
       "  <tbody>\n",
       "    <tr>\n",
       "      <th>0</th>\n",
       "      <td>039 - EXTRACRANIAL PROCEDURES W/O CC/MCC</td>\n",
       "      <td>10001</td>\n",
       "      <td>SOUTHEAST ALABAMA MEDICAL CENTER</td>\n",
       "      <td>1108 ROSS CLARK CIRCLE</td>\n",
       "      <td>DOTHAN</td>\n",
       "      <td>AL</td>\n",
       "      <td>36301</td>\n",
       "      <td>91</td>\n",
       "      <td>32963.07</td>\n",
       "      <td>5777.24</td>\n",
       "      <td>4763.73</td>\n",
       "      <td>2</td>\n",
       "      <td>Dothan</td>\n",
       "    </tr>\n",
       "    <tr>\n",
       "      <th>1</th>\n",
       "      <td>039 - EXTRACRANIAL PROCEDURES W/O CC/MCC</td>\n",
       "      <td>10005</td>\n",
       "      <td>MARSHALL MEDICAL CENTER SOUTH</td>\n",
       "      <td>2505 U S HIGHWAY 431 NORTH</td>\n",
       "      <td>BOAZ</td>\n",
       "      <td>AL</td>\n",
       "      <td>35957</td>\n",
       "      <td>14</td>\n",
       "      <td>15131.85</td>\n",
       "      <td>5787.57</td>\n",
       "      <td>4976.71</td>\n",
       "      <td>1</td>\n",
       "      <td>Birmingham</td>\n",
       "    </tr>\n",
       "    <tr>\n",
       "      <th>2</th>\n",
       "      <td>039 - EXTRACRANIAL PROCEDURES W/O CC/MCC</td>\n",
       "      <td>10006</td>\n",
       "      <td>ELIZA COFFEE MEMORIAL HOSPITAL</td>\n",
       "      <td>205 MARENGO STREET</td>\n",
       "      <td>FLORENCE</td>\n",
       "      <td>AL</td>\n",
       "      <td>35631</td>\n",
       "      <td>24</td>\n",
       "      <td>37560.37</td>\n",
       "      <td>5434.95</td>\n",
       "      <td>4453.79</td>\n",
       "      <td>1</td>\n",
       "      <td>Birmingham</td>\n",
       "    </tr>\n",
       "    <tr>\n",
       "      <th>3</th>\n",
       "      <td>039 - EXTRACRANIAL PROCEDURES W/O CC/MCC</td>\n",
       "      <td>10011</td>\n",
       "      <td>ST VINCENT'S EAST</td>\n",
       "      <td>50 MEDICAL PARK EAST DRIVE</td>\n",
       "      <td>BIRMINGHAM</td>\n",
       "      <td>AL</td>\n",
       "      <td>35235</td>\n",
       "      <td>25</td>\n",
       "      <td>13998.28</td>\n",
       "      <td>5417.56</td>\n",
       "      <td>4129.16</td>\n",
       "      <td>1</td>\n",
       "      <td>Birmingham</td>\n",
       "    </tr>\n",
       "    <tr>\n",
       "      <th>4</th>\n",
       "      <td>039 - EXTRACRANIAL PROCEDURES W/O CC/MCC</td>\n",
       "      <td>10016</td>\n",
       "      <td>SHELBY BAPTIST MEDICAL CENTER</td>\n",
       "      <td>1000 FIRST STREET NORTH</td>\n",
       "      <td>ALABASTER</td>\n",
       "      <td>AL</td>\n",
       "      <td>35007</td>\n",
       "      <td>18</td>\n",
       "      <td>31633.27</td>\n",
       "      <td>5658.33</td>\n",
       "      <td>4851.44</td>\n",
       "      <td>1</td>\n",
       "      <td>Birmingham</td>\n",
       "    </tr>\n",
       "  </tbody>\n",
       "</table>\n",
       "</div>"
      ],
      "text/plain": [
       "                                        drg  prov_ID  \\\n",
       "0  039 - EXTRACRANIAL PROCEDURES W/O CC/MCC    10001   \n",
       "1  039 - EXTRACRANIAL PROCEDURES W/O CC/MCC    10005   \n",
       "2  039 - EXTRACRANIAL PROCEDURES W/O CC/MCC    10006   \n",
       "3  039 - EXTRACRANIAL PROCEDURES W/O CC/MCC    10011   \n",
       "4  039 - EXTRACRANIAL PROCEDURES W/O CC/MCC    10016   \n",
       "\n",
       "                          prov_name                prov_address   prov_city  \\\n",
       "0  SOUTHEAST ALABAMA MEDICAL CENTER      1108 ROSS CLARK CIRCLE      DOTHAN   \n",
       "1     MARSHALL MEDICAL CENTER SOUTH  2505 U S HIGHWAY 431 NORTH        BOAZ   \n",
       "2    ELIZA COFFEE MEMORIAL HOSPITAL          205 MARENGO STREET    FLORENCE   \n",
       "3                 ST VINCENT'S EAST  50 MEDICAL PARK EAST DRIVE  BIRMINGHAM   \n",
       "4     SHELBY BAPTIST MEDICAL CENTER     1000 FIRST STREET NORTH   ALABASTER   \n",
       "\n",
       "  prov_state  prov_zip  discharge_count  covered_charges  total_payments  \\\n",
       "0         AL     36301               91         32963.07         5777.24   \n",
       "1         AL     35957               14         15131.85         5787.57   \n",
       "2         AL     35631               24         37560.37         5434.95   \n",
       "3         AL     35235               25         13998.28         5417.56   \n",
       "4         AL     35007               18         31633.27         5658.33   \n",
       "\n",
       "   medicare_payments  hrr_ID    hrr_city  \n",
       "0            4763.73       2      Dothan  \n",
       "1            4976.71       1  Birmingham  \n",
       "2            4453.79       1  Birmingham  \n",
       "3            4129.16       1  Birmingham  \n",
       "4            4851.44       1  Birmingham  "
      ]
     },
     "execution_count": 8,
     "metadata": {},
     "output_type": "execute_result"
    }
   ],
   "source": [
    "## Drop hrr, hrr_state\n",
    "ipps_df = ipps_df.drop(['hrr', 'hrr_state'], axis=1)\n",
    "\n",
    "ipps_df.head()\n"
   ]
  },
  {
   "cell_type": "markdown",
   "metadata": {},
   "source": [
    "### We need to make similar moves for the drg column"
   ]
  },
  {
   "cell_type": "code",
   "execution_count": 9,
   "metadata": {},
   "outputs": [
    {
     "data": {
      "text/html": [
       "<div>\n",
       "<style scoped>\n",
       "    .dataframe tbody tr th:only-of-type {\n",
       "        vertical-align: middle;\n",
       "    }\n",
       "\n",
       "    .dataframe tbody tr th {\n",
       "        vertical-align: top;\n",
       "    }\n",
       "\n",
       "    .dataframe thead th {\n",
       "        text-align: right;\n",
       "    }\n",
       "</style>\n",
       "<table border=\"1\" class=\"dataframe\">\n",
       "  <thead>\n",
       "    <tr style=\"text-align: right;\">\n",
       "      <th></th>\n",
       "      <th>drg_ID</th>\n",
       "      <th>drg_desc</th>\n",
       "    </tr>\n",
       "  </thead>\n",
       "  <tbody>\n",
       "    <tr>\n",
       "      <th>0</th>\n",
       "      <td>039</td>\n",
       "      <td>EXTRACRANIAL PROCEDURES W/O CC/MCC</td>\n",
       "    </tr>\n",
       "    <tr>\n",
       "      <th>1079</th>\n",
       "      <td>057</td>\n",
       "      <td>DEGENERATIVE NERVOUS SYSTEM DISORDERS W/O MCC</td>\n",
       "    </tr>\n",
       "    <tr>\n",
       "      <th>1763</th>\n",
       "      <td>069</td>\n",
       "      <td>TRANSIENT ISCHEMIA</td>\n",
       "    </tr>\n",
       "    <tr>\n",
       "      <th>2282</th>\n",
       "      <td>064</td>\n",
       "      <td>INTRACRANIAL HEMORRHAGE OR CEREBRAL INFARCTION...</td>\n",
       "    </tr>\n",
       "    <tr>\n",
       "      <th>3949</th>\n",
       "      <td>065</td>\n",
       "      <td>INTRACRANIAL HEMORRHAGE OR CEREBRAL INFARCTION...</td>\n",
       "    </tr>\n",
       "  </tbody>\n",
       "</table>\n",
       "</div>"
      ],
      "text/plain": [
       "     drg_ID                                           drg_desc\n",
       "0       039                 EXTRACRANIAL PROCEDURES W/O CC/MCC\n",
       "1079    057      DEGENERATIVE NERVOUS SYSTEM DISORDERS W/O MCC\n",
       "1763    069                                 TRANSIENT ISCHEMIA\n",
       "2282    064  INTRACRANIAL HEMORRHAGE OR CEREBRAL INFARCTION...\n",
       "3949    065  INTRACRANIAL HEMORRHAGE OR CEREBRAL INFARCTION..."
      ]
     },
     "execution_count": 9,
     "metadata": {},
     "output_type": "execute_result"
    }
   ],
   "source": [
    "## Create new dataframe for drg\n",
    "drg_df = pd.DataFrame({'drg': list(ipps_df.drg)})\n",
    "\n",
    "# Drop dupes\n",
    "drg_df = drg_df.drop_duplicates()\n",
    "\n",
    "# ## Split the columns, drop the original column\n",
    "drg_df[['drg_ID', 'drg_desc']] = drg_df['drg'].str.split(' - ',expand=True)\n",
    "drg_df = drg_df.drop('drg', axis=1)\n",
    "\n",
    "## Show the first few entries to check for integrity\n",
    "drg_df.head()\n"
   ]
  },
  {
   "cell_type": "markdown",
   "metadata": {},
   "source": [
    "#### Split the column in the original dataframe, drop the original column, and the new drg_desc column"
   ]
  },
  {
   "cell_type": "code",
   "execution_count": 10,
   "metadata": {},
   "outputs": [
    {
     "data": {
      "text/html": [
       "<div>\n",
       "<style scoped>\n",
       "    .dataframe tbody tr th:only-of-type {\n",
       "        vertical-align: middle;\n",
       "    }\n",
       "\n",
       "    .dataframe tbody tr th {\n",
       "        vertical-align: top;\n",
       "    }\n",
       "\n",
       "    .dataframe thead th {\n",
       "        text-align: right;\n",
       "    }\n",
       "</style>\n",
       "<table border=\"1\" class=\"dataframe\">\n",
       "  <thead>\n",
       "    <tr style=\"text-align: right;\">\n",
       "      <th></th>\n",
       "      <th>prov_ID</th>\n",
       "      <th>prov_name</th>\n",
       "      <th>prov_address</th>\n",
       "      <th>prov_city</th>\n",
       "      <th>prov_state</th>\n",
       "      <th>prov_zip</th>\n",
       "      <th>discharge_count</th>\n",
       "      <th>covered_charges</th>\n",
       "      <th>total_payments</th>\n",
       "      <th>medicare_payments</th>\n",
       "      <th>hrr_ID</th>\n",
       "      <th>hrr_city</th>\n",
       "      <th>drg_ID</th>\n",
       "    </tr>\n",
       "  </thead>\n",
       "  <tbody>\n",
       "    <tr>\n",
       "      <th>0</th>\n",
       "      <td>10001</td>\n",
       "      <td>SOUTHEAST ALABAMA MEDICAL CENTER</td>\n",
       "      <td>1108 ROSS CLARK CIRCLE</td>\n",
       "      <td>DOTHAN</td>\n",
       "      <td>AL</td>\n",
       "      <td>36301</td>\n",
       "      <td>91</td>\n",
       "      <td>32963.07</td>\n",
       "      <td>5777.24</td>\n",
       "      <td>4763.73</td>\n",
       "      <td>2</td>\n",
       "      <td>Dothan</td>\n",
       "      <td>039</td>\n",
       "    </tr>\n",
       "    <tr>\n",
       "      <th>1</th>\n",
       "      <td>10005</td>\n",
       "      <td>MARSHALL MEDICAL CENTER SOUTH</td>\n",
       "      <td>2505 U S HIGHWAY 431 NORTH</td>\n",
       "      <td>BOAZ</td>\n",
       "      <td>AL</td>\n",
       "      <td>35957</td>\n",
       "      <td>14</td>\n",
       "      <td>15131.85</td>\n",
       "      <td>5787.57</td>\n",
       "      <td>4976.71</td>\n",
       "      <td>1</td>\n",
       "      <td>Birmingham</td>\n",
       "      <td>039</td>\n",
       "    </tr>\n",
       "    <tr>\n",
       "      <th>2</th>\n",
       "      <td>10006</td>\n",
       "      <td>ELIZA COFFEE MEMORIAL HOSPITAL</td>\n",
       "      <td>205 MARENGO STREET</td>\n",
       "      <td>FLORENCE</td>\n",
       "      <td>AL</td>\n",
       "      <td>35631</td>\n",
       "      <td>24</td>\n",
       "      <td>37560.37</td>\n",
       "      <td>5434.95</td>\n",
       "      <td>4453.79</td>\n",
       "      <td>1</td>\n",
       "      <td>Birmingham</td>\n",
       "      <td>039</td>\n",
       "    </tr>\n",
       "    <tr>\n",
       "      <th>3</th>\n",
       "      <td>10011</td>\n",
       "      <td>ST VINCENT'S EAST</td>\n",
       "      <td>50 MEDICAL PARK EAST DRIVE</td>\n",
       "      <td>BIRMINGHAM</td>\n",
       "      <td>AL</td>\n",
       "      <td>35235</td>\n",
       "      <td>25</td>\n",
       "      <td>13998.28</td>\n",
       "      <td>5417.56</td>\n",
       "      <td>4129.16</td>\n",
       "      <td>1</td>\n",
       "      <td>Birmingham</td>\n",
       "      <td>039</td>\n",
       "    </tr>\n",
       "    <tr>\n",
       "      <th>4</th>\n",
       "      <td>10016</td>\n",
       "      <td>SHELBY BAPTIST MEDICAL CENTER</td>\n",
       "      <td>1000 FIRST STREET NORTH</td>\n",
       "      <td>ALABASTER</td>\n",
       "      <td>AL</td>\n",
       "      <td>35007</td>\n",
       "      <td>18</td>\n",
       "      <td>31633.27</td>\n",
       "      <td>5658.33</td>\n",
       "      <td>4851.44</td>\n",
       "      <td>1</td>\n",
       "      <td>Birmingham</td>\n",
       "      <td>039</td>\n",
       "    </tr>\n",
       "  </tbody>\n",
       "</table>\n",
       "</div>"
      ],
      "text/plain": [
       "   prov_ID                         prov_name                prov_address  \\\n",
       "0    10001  SOUTHEAST ALABAMA MEDICAL CENTER      1108 ROSS CLARK CIRCLE   \n",
       "1    10005     MARSHALL MEDICAL CENTER SOUTH  2505 U S HIGHWAY 431 NORTH   \n",
       "2    10006    ELIZA COFFEE MEMORIAL HOSPITAL          205 MARENGO STREET   \n",
       "3    10011                 ST VINCENT'S EAST  50 MEDICAL PARK EAST DRIVE   \n",
       "4    10016     SHELBY BAPTIST MEDICAL CENTER     1000 FIRST STREET NORTH   \n",
       "\n",
       "    prov_city prov_state  prov_zip  discharge_count  covered_charges  \\\n",
       "0      DOTHAN         AL     36301               91         32963.07   \n",
       "1        BOAZ         AL     35957               14         15131.85   \n",
       "2    FLORENCE         AL     35631               24         37560.37   \n",
       "3  BIRMINGHAM         AL     35235               25         13998.28   \n",
       "4   ALABASTER         AL     35007               18         31633.27   \n",
       "\n",
       "   total_payments  medicare_payments  hrr_ID    hrr_city drg_ID  \n",
       "0         5777.24            4763.73       2      Dothan    039  \n",
       "1         5787.57            4976.71       1  Birmingham    039  \n",
       "2         5434.95            4453.79       1  Birmingham    039  \n",
       "3         5417.56            4129.16       1  Birmingham    039  \n",
       "4         5658.33            4851.44       1  Birmingham    039  "
      ]
     },
     "execution_count": 10,
     "metadata": {},
     "output_type": "execute_result"
    }
   ],
   "source": [
    "## Split the columns\n",
    "ipps_df[['drg_ID', 'drg_desc']] = ipps_df['drg'].str.split(' - ', expand=True)\n",
    "\n",
    "## Drop the columns\n",
    "ipps_df = ipps_df.drop(['drg_desc', 'drg'], axis=1)\n",
    "\n",
    "## Check integrity of data/drops\n",
    "ipps_df.head()\n"
   ]
  },
  {
   "cell_type": "markdown",
   "metadata": {},
   "source": [
    "### Next, create a dataframe for the providers and drop columns from original dataframe"
   ]
  },
  {
   "cell_type": "code",
   "execution_count": 11,
   "metadata": {},
   "outputs": [
    {
     "name": "stdout",
     "output_type": "stream",
     "text": [
      "Number of Providers:  3337\n"
     ]
    },
    {
     "data": {
      "text/html": [
       "<div>\n",
       "<style scoped>\n",
       "    .dataframe tbody tr th:only-of-type {\n",
       "        vertical-align: middle;\n",
       "    }\n",
       "\n",
       "    .dataframe tbody tr th {\n",
       "        vertical-align: top;\n",
       "    }\n",
       "\n",
       "    .dataframe thead th {\n",
       "        text-align: right;\n",
       "    }\n",
       "</style>\n",
       "<table border=\"1\" class=\"dataframe\">\n",
       "  <thead>\n",
       "    <tr style=\"text-align: right;\">\n",
       "      <th></th>\n",
       "      <th>prov_ID</th>\n",
       "      <th>prov_name</th>\n",
       "      <th>prov_address</th>\n",
       "      <th>prov_city</th>\n",
       "      <th>prov_state</th>\n",
       "      <th>prov_zip</th>\n",
       "      <th>hrr_ID</th>\n",
       "    </tr>\n",
       "  </thead>\n",
       "  <tbody>\n",
       "    <tr>\n",
       "      <th>0</th>\n",
       "      <td>10001</td>\n",
       "      <td>SOUTHEAST ALABAMA MEDICAL CENTER</td>\n",
       "      <td>1108 ROSS CLARK CIRCLE</td>\n",
       "      <td>DOTHAN</td>\n",
       "      <td>AL</td>\n",
       "      <td>36301</td>\n",
       "      <td>2</td>\n",
       "    </tr>\n",
       "    <tr>\n",
       "      <th>1</th>\n",
       "      <td>10005</td>\n",
       "      <td>MARSHALL MEDICAL CENTER SOUTH</td>\n",
       "      <td>2505 U S HIGHWAY 431 NORTH</td>\n",
       "      <td>BOAZ</td>\n",
       "      <td>AL</td>\n",
       "      <td>35957</td>\n",
       "      <td>1</td>\n",
       "    </tr>\n",
       "    <tr>\n",
       "      <th>2</th>\n",
       "      <td>10006</td>\n",
       "      <td>ELIZA COFFEE MEMORIAL HOSPITAL</td>\n",
       "      <td>205 MARENGO STREET</td>\n",
       "      <td>FLORENCE</td>\n",
       "      <td>AL</td>\n",
       "      <td>35631</td>\n",
       "      <td>1</td>\n",
       "    </tr>\n",
       "    <tr>\n",
       "      <th>3</th>\n",
       "      <td>10011</td>\n",
       "      <td>ST VINCENT'S EAST</td>\n",
       "      <td>50 MEDICAL PARK EAST DRIVE</td>\n",
       "      <td>BIRMINGHAM</td>\n",
       "      <td>AL</td>\n",
       "      <td>35235</td>\n",
       "      <td>1</td>\n",
       "    </tr>\n",
       "    <tr>\n",
       "      <th>4</th>\n",
       "      <td>10016</td>\n",
       "      <td>SHELBY BAPTIST MEDICAL CENTER</td>\n",
       "      <td>1000 FIRST STREET NORTH</td>\n",
       "      <td>ALABASTER</td>\n",
       "      <td>AL</td>\n",
       "      <td>35007</td>\n",
       "      <td>1</td>\n",
       "    </tr>\n",
       "  </tbody>\n",
       "</table>\n",
       "</div>"
      ],
      "text/plain": [
       "   prov_ID                         prov_name                prov_address  \\\n",
       "0    10001  SOUTHEAST ALABAMA MEDICAL CENTER      1108 ROSS CLARK CIRCLE   \n",
       "1    10005     MARSHALL MEDICAL CENTER SOUTH  2505 U S HIGHWAY 431 NORTH   \n",
       "2    10006    ELIZA COFFEE MEMORIAL HOSPITAL          205 MARENGO STREET   \n",
       "3    10011                 ST VINCENT'S EAST  50 MEDICAL PARK EAST DRIVE   \n",
       "4    10016     SHELBY BAPTIST MEDICAL CENTER     1000 FIRST STREET NORTH   \n",
       "\n",
       "    prov_city prov_state  prov_zip  hrr_ID  \n",
       "0      DOTHAN         AL     36301       2  \n",
       "1        BOAZ         AL     35957       1  \n",
       "2    FLORENCE         AL     35631       1  \n",
       "3  BIRMINGHAM         AL     35235       1  \n",
       "4   ALABASTER         AL     35007       1  "
      ]
     },
     "execution_count": 11,
     "metadata": {},
     "output_type": "execute_result"
    }
   ],
   "source": [
    "## Create the dataframe\n",
    "prov_df = ipps_df[['prov_ID', 'prov_name', 'prov_address', 'prov_city', 'prov_state',  'prov_zip', 'hrr_ID']]\n",
    "\n",
    "## Drop the duplicate rows\n",
    "prov_df = prov_df.drop_duplicates()\n",
    "\n",
    "## Double check for correct number of entries\n",
    "print('Number of Providers: ', len(prov_df))\n",
    "\n",
    "## Double check the integrity of the dataframe\n",
    "prov_df.head()\n"
   ]
  },
  {
   "cell_type": "markdown",
   "metadata": {},
   "source": [
    "#### Now drop everything from original df except for the prov_ID\n",
    "* Note: Now, we can drop the hrr_city"
   ]
  },
  {
   "cell_type": "code",
   "execution_count": 12,
   "metadata": {},
   "outputs": [
    {
     "data": {
      "text/html": [
       "<div>\n",
       "<style scoped>\n",
       "    .dataframe tbody tr th:only-of-type {\n",
       "        vertical-align: middle;\n",
       "    }\n",
       "\n",
       "    .dataframe tbody tr th {\n",
       "        vertical-align: top;\n",
       "    }\n",
       "\n",
       "    .dataframe thead th {\n",
       "        text-align: right;\n",
       "    }\n",
       "</style>\n",
       "<table border=\"1\" class=\"dataframe\">\n",
       "  <thead>\n",
       "    <tr style=\"text-align: right;\">\n",
       "      <th></th>\n",
       "      <th>prov_ID</th>\n",
       "      <th>discharge_count</th>\n",
       "      <th>covered_charges</th>\n",
       "      <th>total_payments</th>\n",
       "      <th>medicare_payments</th>\n",
       "      <th>hrr_city</th>\n",
       "      <th>drg_ID</th>\n",
       "    </tr>\n",
       "  </thead>\n",
       "  <tbody>\n",
       "    <tr>\n",
       "      <th>0</th>\n",
       "      <td>10001</td>\n",
       "      <td>91</td>\n",
       "      <td>32963.07</td>\n",
       "      <td>5777.24</td>\n",
       "      <td>4763.73</td>\n",
       "      <td>Dothan</td>\n",
       "      <td>039</td>\n",
       "    </tr>\n",
       "    <tr>\n",
       "      <th>1</th>\n",
       "      <td>10005</td>\n",
       "      <td>14</td>\n",
       "      <td>15131.85</td>\n",
       "      <td>5787.57</td>\n",
       "      <td>4976.71</td>\n",
       "      <td>Birmingham</td>\n",
       "      <td>039</td>\n",
       "    </tr>\n",
       "    <tr>\n",
       "      <th>2</th>\n",
       "      <td>10006</td>\n",
       "      <td>24</td>\n",
       "      <td>37560.37</td>\n",
       "      <td>5434.95</td>\n",
       "      <td>4453.79</td>\n",
       "      <td>Birmingham</td>\n",
       "      <td>039</td>\n",
       "    </tr>\n",
       "    <tr>\n",
       "      <th>3</th>\n",
       "      <td>10011</td>\n",
       "      <td>25</td>\n",
       "      <td>13998.28</td>\n",
       "      <td>5417.56</td>\n",
       "      <td>4129.16</td>\n",
       "      <td>Birmingham</td>\n",
       "      <td>039</td>\n",
       "    </tr>\n",
       "    <tr>\n",
       "      <th>4</th>\n",
       "      <td>10016</td>\n",
       "      <td>18</td>\n",
       "      <td>31633.27</td>\n",
       "      <td>5658.33</td>\n",
       "      <td>4851.44</td>\n",
       "      <td>Birmingham</td>\n",
       "      <td>039</td>\n",
       "    </tr>\n",
       "  </tbody>\n",
       "</table>\n",
       "</div>"
      ],
      "text/plain": [
       "   prov_ID  discharge_count  covered_charges  total_payments  \\\n",
       "0    10001               91         32963.07         5777.24   \n",
       "1    10005               14         15131.85         5787.57   \n",
       "2    10006               24         37560.37         5434.95   \n",
       "3    10011               25         13998.28         5417.56   \n",
       "4    10016               18         31633.27         5658.33   \n",
       "\n",
       "   medicare_payments    hrr_city drg_ID  \n",
       "0            4763.73      Dothan    039  \n",
       "1            4976.71  Birmingham    039  \n",
       "2            4453.79  Birmingham    039  \n",
       "3            4129.16  Birmingham    039  \n",
       "4            4851.44  Birmingham    039  "
      ]
     },
     "execution_count": 12,
     "metadata": {},
     "output_type": "execute_result"
    }
   ],
   "source": [
    "## Drop the columns\n",
    "ipps_df = ipps_df.drop(['prov_name', 'prov_address', 'prov_state', 'prov_city', 'prov_zip', 'hrr_ID'], axis=1)\n",
    "\n",
    "## Check integrity\n",
    "ipps_df.head()\n"
   ]
  },
  {
   "cell_type": "markdown",
   "metadata": {},
   "source": [
    "#### The original dataframe now represents the desired relation for payments\n",
    "* Rename it for convention's sake"
   ]
  },
  {
   "cell_type": "code",
   "execution_count": 13,
   "metadata": {},
   "outputs": [],
   "source": [
    "payments_df = ipps_df\n"
   ]
  },
  {
   "cell_type": "markdown",
   "metadata": {},
   "source": [
    "#### Let's also add a payment_ID column to use as the primary ID"
   ]
  },
  {
   "cell_type": "code",
   "execution_count": 14,
   "metadata": {},
   "outputs": [],
   "source": [
    "## Add an index column so each entry has a unique ID\n",
    "payments_df['payment_ID'] = range(len(payments_df))\n",
    "\n",
    "payments_df = payments_df[['payment_ID', 'prov_ID', 'drg_ID', \n",
    "                           'discharge_count', 'covered_charges',\n",
    "                          'total_payments', 'medicare_payments']]"
   ]
  },
  {
   "cell_type": "markdown",
   "metadata": {},
   "source": [
    "### Check if we can breakdown the provider information further by using zip"
   ]
  },
  {
   "cell_type": "code",
   "execution_count": 15,
   "metadata": {},
   "outputs": [
    {
     "data": {
      "text/plain": [
       "False"
      ]
     },
     "execution_count": 15,
     "metadata": {},
     "output_type": "execute_result"
    }
   ],
   "source": [
    "len(prov_df.prov_zip) == len(set(prov_df.prov_zip))\n"
   ]
  },
  {
   "cell_type": "markdown",
   "metadata": {},
   "source": [
    "* Looks like there are fewer zips than providers, indicating duplicates which can be broken out."
   ]
  },
  {
   "cell_type": "markdown",
   "metadata": {},
   "source": [
    "#### Let's double check that there aren't any zip codes with more than one city/state combination"
   ]
  },
  {
   "cell_type": "code",
   "execution_count": 16,
   "metadata": {},
   "outputs": [
    {
     "name": "stdout",
     "output_type": "stream",
     "text": [
      "Number of Zips:  3053\n",
      "Length before drop:  3337\n",
      "Length after drop:  3063\n"
     ]
    }
   ],
   "source": [
    "location_df = prov_df[['prov_zip', 'prov_state', 'prov_city']]\n",
    "\n",
    "print('Number of Zips: ', len(set(location_df.prov_zip)))\n",
    "print('Length before drop: ', len(location_df))\n",
    "\n",
    "location_df = location_df.drop_duplicates()\n",
    "\n",
    "print('Length after drop: ', len(location_df))\n"
   ]
  },
  {
   "cell_type": "markdown",
   "metadata": {},
   "source": [
    "#### As it turns out, there are some zips associated with more than one city/state combination\n",
    "* The marginal returns of separating this information to its own relation is not worth the hassle\n"
   ]
  },
  {
   "cell_type": "markdown",
   "metadata": {},
   "source": [
    "### Last check: Double check the number of entries are accurate for our 4 relations"
   ]
  },
  {
   "cell_type": "code",
   "execution_count": 17,
   "metadata": {},
   "outputs": [
    {
     "name": "stdout",
     "output_type": "stream",
     "text": [
      "Number of DRGs:  100\n",
      "Number of HRRs:  306\n",
      "Number of Providers:  3337\n",
      "Number of Charges/Payments:  163065\n"
     ]
    }
   ],
   "source": [
    "print('Number of DRGs: ', len(drg_df))\n",
    "print('Number of HRRs: ', len(hrr_df))\n",
    "print('Number of Providers: ', len(prov_df))\n",
    "print('Number of Charges/Payments: ', len(payments_df))"
   ]
  },
  {
   "cell_type": "markdown",
   "metadata": {},
   "source": [
    "## Step 3 Create a database connection"
   ]
  },
  {
   "cell_type": "code",
   "execution_count": 18,
   "metadata": {},
   "outputs": [
    {
     "name": "stdout",
     "output_type": "stream",
     "text": [
      "Connection to MySQL database ipps was successful!\n"
     ]
    }
   ],
   "source": [
    "server = 'localhost'\n",
    "database = 'ipps'\n",
    "user = 'ipps'\n",
    "password = 'password'\n",
    "\n",
    "# connects to the database\n",
    "connection = pymysql.connect(host = server, user = user, password = password, db = database)\n",
    "if (connection):\n",
    "    print('Connection to MySQL database', database, 'was successful!')\n"
   ]
  },
  {
   "cell_type": "markdown",
   "metadata": {},
   "source": [
    "## Step 4 Load the data into the DB"
   ]
  },
  {
   "cell_type": "markdown",
   "metadata": {},
   "source": [
    "* First, the HRR relation"
   ]
  },
  {
   "cell_type": "code",
   "execution_count": 19,
   "metadata": {},
   "outputs": [],
   "source": [
    "# new row\n",
    "cursor = connection.cursor()\n",
    "sql = 'INSERT INTO HRR VALUES (%s, %s, %s)'\n",
    "\n",
    "for row in range(len(hrr_df)):\n",
    "    cursor.execute(sql, tuple([float(hrr_df.iloc[row,0]), str(hrr_df.iloc[row,1]), str(hrr_df.iloc[row,2])]))\n",
    "\n",
    "connection.commit()"
   ]
  },
  {
   "cell_type": "markdown",
   "metadata": {},
   "source": [
    "* Next, the DRG relation"
   ]
  },
  {
   "cell_type": "code",
   "execution_count": 20,
   "metadata": {},
   "outputs": [],
   "source": [
    "# new rows\n",
    "sql = 'INSERT INTO DRG VALUES (%s, %s)'\n",
    "\n",
    "for row in range(len(drg_df)):\n",
    "    cursor.execute(sql, tuple([float(drg_df.iloc[row,0]), str(drg_df.iloc[row,1])]))\n",
    "\n",
    "connection.commit()"
   ]
  },
  {
   "cell_type": "markdown",
   "metadata": {},
   "source": [
    "* Next, the Providers relation"
   ]
  },
  {
   "cell_type": "code",
   "execution_count": 21,
   "metadata": {},
   "outputs": [],
   "source": [
    "# new row\n",
    "cursor = connection.cursor()\n",
    "sql = 'INSERT INTO Providers VALUES (%s, %s, %s, %s, %s, %s, %s)'\n",
    "\n",
    "for row in range(len(prov_df)):\n",
    "    cursor.execute(sql, tuple([int(prov_df.iloc[row,0]), prov_df.iloc[row,1], \n",
    "                               prov_df.iloc[row,2], prov_df.iloc[row,3], \n",
    "                               prov_df.iloc[row,4], int(prov_df.iloc[row,5]), \n",
    "                               int(prov_df.iloc[row,6])]))\n",
    "\n",
    "connection.commit()"
   ]
  },
  {
   "cell_type": "markdown",
   "metadata": {},
   "source": [
    "* Finally, the Payments relation"
   ]
  },
  {
   "cell_type": "code",
   "execution_count": 22,
   "metadata": {},
   "outputs": [],
   "source": [
    "# new rows\n",
    "sql = 'INSERT INTO Payments VALUES (%s, %s, %s, %s, %s, %s, %s)'\n",
    "\n",
    "for row in range(len(payments_df)):\n",
    "    cursor.execute(sql, tuple([int(payments_df.iloc[row,0]), int(payments_df.iloc[row,1]), \n",
    "                               int(payments_df.iloc[row,2]), int(payments_df.iloc[row,3]), \n",
    "                               float(payments_df.iloc[row,4]), float(payments_df.iloc[row,5]), \n",
    "                               float(payments_df.iloc[row,6])]))\n",
    "\n",
    "connection.commit()"
   ]
  },
  {
   "cell_type": "markdown",
   "metadata": {},
   "source": [
    "### Always be sure to terminate the connection"
   ]
  },
  {
   "cell_type": "code",
   "execution_count": 23,
   "metadata": {},
   "outputs": [],
   "source": [
    "connection.close()"
   ]
  }
 ],
 "metadata": {
  "kernelspec": {
   "display_name": "py_36_env",
   "language": "python",
   "name": "py_36_env"
  },
  "language_info": {
   "codemirror_mode": {
    "name": "ipython",
    "version": 3
   },
   "file_extension": ".py",
   "mimetype": "text/x-python",
   "name": "python",
   "nbconvert_exporter": "python",
   "pygments_lexer": "ipython3",
   "version": "3.6.5"
  }
 },
 "nbformat": 4,
 "nbformat_minor": 2
}
